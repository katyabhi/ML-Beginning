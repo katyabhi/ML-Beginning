{
 "cells": [
  {
   "cell_type": "code",
   "execution_count": 2,
   "metadata": {},
   "outputs": [],
   "source": [
    "import pandas as pd\n",
    "cr=pd.read_csv(r\"C:\\Users\\rks91\\Downloads\\New folder\\CreditRisk.csv\")\n",
    "cr.Gender = cr.Gender.fillna('Male')\n",
    "cr.Married = cr.Married.fillna(\"Yes\")\n",
    "cr.Dependents = cr.Dependents.fillna(0)\n",
    "cr.Self_Employed = cr.Self_Employed.fillna('No')\n",
    "cr.LoanAmount = cr.LoanAmount.fillna(120)\n",
    "cr.Loan_Amount_Term = cr.Loan_Amount_Term.fillna(360)\n",
    "cr.Credit_History = cr.Credit_History.fillna(1)\n",
    "#-------------------\n",
    "cr.Gender.replace({\"Male\": 1, \"Female\": 0}, inplace = True)\n",
    "cr.Married.replace({\"No\": 0, \"Yes\": 1}, inplace = True)\n",
    "cr.Education.replace({\"Graduate\" : 1, \"Not Graduate\": 0}, inplace = True)\n",
    "cr.Self_Employed.replace({\"No\": 0, \"Yes\": 1}, inplace = True)\n",
    "cr.Property_Area.replace({\"Semiurban\": 1, \"Urban\": 2, \"Rural\": 3}, inplace = True)\n",
    "cr.Loan_Status.replace({\"Y\": 1, \"N\": 0}, inplace = True)\n",
    "#-------------------\n",
    "cr=cr.iloc[:,1:]\n",
    "#---------------------\n",
    "from sklearn.model_selection import train_test_split\n",
    "cr_train,cr_test=train_test_split(cr,test_size=.2,random_state=555)\n",
    "#-------------------\n",
    "cr_train_x=cr_train.iloc[:,0:-1]\n",
    "cr_train_y=cr_train.iloc[:,-1]\n",
    "#-----------\n",
    "cr_test_x=cr_test.iloc[:,0:-1]\n",
    "cr_test_y=cr_test.iloc[:,-1]"
   ]
  },
  {
   "cell_type": "code",
   "execution_count": 4,
   "metadata": {},
   "outputs": [],
   "source": [
    "from sklearn.neighbors import KNeighborsClassifier"
   ]
  },
  {
   "cell_type": "code",
   "execution_count": 34,
   "metadata": {},
   "outputs": [],
   "source": [
    "knn=KNeighborsClassifier(n_neighbors=5)"
   ]
  },
  {
   "cell_type": "code",
   "execution_count": 35,
   "metadata": {},
   "outputs": [
    {
     "data": {
      "text/plain": [
       "KNeighborsClassifier(n_neighbors=34)"
      ]
     },
     "execution_count": 35,
     "metadata": {},
     "output_type": "execute_result"
    }
   ],
   "source": [
    "knn.fit(cr_train_x,cr_train_y)"
   ]
  },
  {
   "cell_type": "code",
   "execution_count": 36,
   "metadata": {},
   "outputs": [],
   "source": [
    "knn_pred=knn.predict(cr_test_x)"
   ]
  },
  {
   "cell_type": "code",
   "execution_count": 12,
   "metadata": {},
   "outputs": [],
   "source": [
    "from sklearn.metrics import confusion_matrix"
   ]
  },
  {
   "cell_type": "code",
   "execution_count": 37,
   "metadata": {},
   "outputs": [],
   "source": [
    "tab_knn=confusion_matrix(knn_pred,cr_test_y)"
   ]
  },
  {
   "cell_type": "code",
   "execution_count": 14,
   "metadata": {},
   "outputs": [
    {
     "data": {
      "text/plain": [
       "array([[ 11,  16],\n",
       "       [ 50, 120]], dtype=int64)"
      ]
     },
     "execution_count": 14,
     "metadata": {},
     "output_type": "execute_result"
    }
   ],
   "source": [
    "tab_knn"
   ]
  },
  {
   "cell_type": "code",
   "execution_count": 38,
   "metadata": {},
   "outputs": [
    {
     "data": {
      "text/plain": [
       "69.03553299492386"
      ]
     },
     "execution_count": 38,
     "metadata": {},
     "output_type": "execute_result"
    }
   ],
   "source": [
    "Acc=tab_knn.diagonal().sum()*100/tab_knn.sum()\n",
    "Acc\n",
    "#Acc=np.round(Acc,2)"
   ]
  },
  {
   "cell_type": "code",
   "execution_count": 16,
   "metadata": {},
   "outputs": [],
   "source": [
    "#lets find value of k"
   ]
  },
  {
   "cell_type": "code",
   "execution_count": 18,
   "metadata": {},
   "outputs": [],
   "source": [
    "import numpy as np"
   ]
  },
  {
   "cell_type": "code",
   "execution_count": 19,
   "metadata": {},
   "outputs": [],
   "source": [
    "empty_list=[]\n",
    "num=list(range(1,51))\n",
    "for k in range(1,51):\n",
    "    knn=KNeighborsClassifier(n_neighbors=k)\n",
    "    knn.fit(cr_train_x,cr_train_y)\n",
    "    knn_pred=knn.predict(cr_test_x)\n",
    "    tab_knn=confusion_matrix(knn_pred,cr_test_y)\n",
    "    Acc=tab_knn.diagonal().sum()*100/tab_knn.sum()\n",
    "    Acc=np.round(Acc,2)\n",
    "    empty_list.append(Acc)"
   ]
  },
  {
   "cell_type": "code",
   "execution_count": 20,
   "metadata": {},
   "outputs": [],
   "source": [
    "import matplotlib.pyplot as plt"
   ]
  },
  {
   "cell_type": "code",
   "execution_count": 22,
   "metadata": {},
   "outputs": [],
   "source": [
    "#num=list(range(1,51))"
   ]
  },
  {
   "cell_type": "code",
   "execution_count": 33,
   "metadata": {},
   "outputs": [
    {
     "data": {
      "image/png": "[encoded data removed]",
      "text/plain": [
       "<Figure size 576x576 with 1 Axes>"
      ]
     },
     "metadata": {
      "needs_background": "light"
     },
     "output_type": "display_data"
    }
   ],
   "source": [
    "plt.figure(figsize=(8,8))\n",
    "plt.plot(num,empty_list,color=\"r\",marker=\".\")\n",
    "plt.grid()\n",
    "#plt.text(25,70.5,\"A\",size=10)\n",
    "#plt.text(32,69,\"B\",size=10)\n",
    "#plt.axvline(x=26,color=\"green\")\n",
    "#plt.axvline(x=33,color=\"tan\")"
   ]
  },
  {
   "cell_type": "code",
   "execution_count": 39,
   "metadata": {},
   "outputs": [],
   "source": [
    "#build the KNN model on CTG data"
   ]
  },
  {
   "cell_type": "code",
   "execution_count": 40,
   "metadata": {},
   "outputs": [],
   "source": [
    "#build the graph"
   ]
  },
  {
   "cell_type": "code",
   "execution_count": 119,
   "metadata": {},
   "outputs": [],
   "source": [
    "ct=pd.read_csv(r\"C:\\Users\\rks91\\Downloads\\New folder\\CTG.csv\")"
   ]
  },
  {
   "cell_type": "code",
   "execution_count": 107,
   "metadata": {},
   "outputs": [],
   "source": [
    "#ct.head()"
   ]
  },
  {
   "cell_type": "code",
   "execution_count": 120,
   "metadata": {},
   "outputs": [],
   "source": [
    "ct_train,ct_test=train_test_split(ct,test_size=.2,random_state=555)"
   ]
  },
  {
   "cell_type": "code",
   "execution_count": 121,
   "metadata": {},
   "outputs": [],
   "source": [
    "df2=ct_train[ct_train.NSP==2]\n",
    "df3=ct_train[ct_train.NSP==3]"
   ]
  },
  {
   "cell_type": "code",
   "execution_count": 122,
   "metadata": {},
   "outputs": [],
   "source": [
    "ct_train=pd.concat([ct_train,df2,df3,df3])"
   ]
  },
  {
   "cell_type": "code",
   "execution_count": 85,
   "metadata": {},
   "outputs": [],
   "source": [
    "# ct_train_x=ct_train.iloc[:,[0,1,2]]\n",
    "# ct_train_y=ct_train.iloc[:,3]\n",
    "# #------------\n",
    "# ct_test_x=ct_test.iloc[:,[0,1,2]]\n",
    "# ct_test_y=ct_test.iloc[:,3]"
   ]
  },
  {
   "cell_type": "code",
   "execution_count": 123,
   "metadata": {},
   "outputs": [],
   "source": [
    "ct_train_x=ct_train.iloc[:,0:-1]\n",
    "ct_train_y=ct_train.iloc[:,-1]\n",
    "#-----------\n",
    "ct_test_x=ct_test.iloc[:,0:-1]\n",
    "ct_test_y=ct_test.iloc[:,-1]"
   ]
  },
  {
   "cell_type": "code",
   "execution_count": 69,
   "metadata": {},
   "outputs": [],
   "source": [
    "from sklearn.neighbors import KNeighborsClassifier"
   ]
  },
  {
   "cell_type": "code",
   "execution_count": 124,
   "metadata": {},
   "outputs": [],
   "source": [
    "knn_ctg=KNeighborsClassifier(n_neighbors=5)"
   ]
  },
  {
   "cell_type": "code",
   "execution_count": 125,
   "metadata": {},
   "outputs": [
    {
     "data": {
      "text/plain": [
       "KNeighborsClassifier()"
      ]
     },
     "execution_count": 125,
     "metadata": {},
     "output_type": "execute_result"
    }
   ],
   "source": [
    "knn_ctg.fit(ct_train_x,ct_train_y)"
   ]
  },
  {
   "cell_type": "code",
   "execution_count": 126,
   "metadata": {},
   "outputs": [],
   "source": [
    "knn_pred_ctg=knn_ctg.predict(ct_test_x)"
   ]
  },
  {
   "cell_type": "code",
   "execution_count": 73,
   "metadata": {},
   "outputs": [],
   "source": [
    "from sklearn.metrics import confusion_matrix"
   ]
  },
  {
   "cell_type": "code",
   "execution_count": 127,
   "metadata": {},
   "outputs": [
    {
     "data": {
      "text/plain": [
       "array([[289,   9,  10],\n",
       "       [ 27,  36,   4],\n",
       "       [ 17,  10,  24]], dtype=int64)"
      ]
     },
     "execution_count": 127,
     "metadata": {},
     "output_type": "execute_result"
    }
   ],
   "source": [
    "tab_knn_ctg=confusion_matrix(knn_pred_ctg,ct_test_y)\n",
    "tab_knn_ctg"
   ]
  },
  {
   "cell_type": "code",
   "execution_count": 114,
   "metadata": {},
   "outputs": [
    {
     "data": {
      "text/plain": [
       "82.3943661971831"
      ]
     },
     "execution_count": 114,
     "metadata": {},
     "output_type": "execute_result"
    }
   ],
   "source": [
    "Acc_ctg=tab_knn_ctg.diagonal().sum()*100/tab_knn_ctg.sum()\n",
    "Acc_ctg"
   ]
  },
  {
   "cell_type": "code",
   "execution_count": 104,
   "metadata": {},
   "outputs": [],
   "source": [
    "empty_list=[]\n",
    "num=list(range(1,100))\n",
    "for k in range(1,100):\n",
    "    knn_ctg=KNeighborsClassifier(n_neighbors=k)\n",
    "    knn_ctg.fit(ct_train_x,ct_train_y)\n",
    "    knn_pred_ctg=knn_ctg.predict(ct_test_x)\n",
    "    tab_knn_ctg=confusion_matrix(knn_pred_ctg,ct_test_y)\n",
    "    Acc_ctg=tab_knn_ctg.diagonal().sum()*100/tab_knn_ctg.sum()\n",
    "    Acc_ctg=np.round(Acc_ctg,2)\n",
    "    empty_list.append(Acc_ctg)"
   ]
  },
  {
   "cell_type": "code",
   "execution_count": 117,
   "metadata": {},
   "outputs": [],
   "source": [
    "# empty_list=[]\n",
    "# num=list(range(1,51))\n",
    "# for k in range(1,51):\n",
    "#     knn_ctg=KNeighborsClassifier(n_neighbors=k)\n",
    "#     knn_ctg.fit(ct_train_x,ct_train_y)\n",
    "#     knn_pred_ctg=knn_ctg.predict(ct_test_x)\n",
    "#     tab_knn_ctg=confusion_matrix(knn_pred_ctg,ct_test_y)\n",
    "#     Acc_ctg=tab_knn_ctg.diagonal().sum()*100/tab_knn_ctg.sum()\n",
    "#     Acc_ctg=np.round(Acc_ctg,2)\n",
    "#     empty_list.append(Acc_ctg)"
   ]
  },
  {
   "cell_type": "code",
   "execution_count": 118,
   "metadata": {},
   "outputs": [
    {
     "data": {
      "image/png": "[encoded data removed]",
      "text/plain": [
       "<Figure size 576x576 with 1 Axes>"
      ]
     },
     "metadata": {
      "needs_background": "light"
     },
     "output_type": "display_data"
    }
   ],
   "source": [
    "plt.figure(figsize=(8,8))\n",
    "plt.plot(num,empty_list,color=\"r\",marker=\".\")\n",
    "plt.grid()"
   ]
  },
  {
   "cell_type": "code",
   "execution_count": null,
   "metadata": {},
   "outputs": [],
   "source": []
  }
 ],
 "metadata": {
  "kernelspec": {
   "display_name": "Python 3",
   "language": "python",
   "name": "python3"
  },
  "language_info": {
   "codemirror_mode": {
    "name": "ipython",
    "version": 3
   },
   "file_extension": ".py",
   "mimetype": "text/x-python",
   "name": "python",
   "nbconvert_exporter": "python",
   "pygments_lexer": "ipython3",
   "version": "3.8.5"
  }
 },
 "nbformat": 4,
 "nbformat_minor": 4
}
