{
 "cells": [
  {
   "cell_type": "code",
   "execution_count": null,
   "metadata": {},
   "outputs": [],
   "source": [
    "import pandas as pd\n",
    "vacc=pd.read_csv(r\"C:\\Users\\rks91\\Downloads\\New folder\\PytLogistic\\Vaccine Usage Prediction\\Dataset\\h1n1_vaccine_prediction.csv\")\n"
   ]
  },
  {
   "cell_type": "code",
   "execution_count": 1,
   "metadata": {},
   "outputs": [
    {
     "data": {
      "text/plain": [
       "0.4166666666666667"
      ]
     },
     "execution_count": 1,
     "metadata": {},
     "output_type": "execute_result"
    }
   ],
   "source": [
    "((4/9)*(6/10))+((3/8)*(4/10))"
   ]
  },
  {
   "cell_type": "code",
   "execution_count": 2,
   "metadata": {},
   "outputs": [
    {
     "data": {
      "text/plain": [
       "1.92"
      ]
     },
     "execution_count": 2,
     "metadata": {},
     "output_type": "execute_result"
    }
   ],
   "source": [
    "48/25"
   ]
  },
  {
   "cell_type": "code",
   "execution_count": 4,
   "metadata": {},
   "outputs": [
    {
     "data": {
      "text/plain": [
       "0.48"
      ]
     },
     "execution_count": 4,
     "metadata": {},
     "output_type": "execute_result"
    }
   ],
   "source": [
    "12/25"
   ]
  },
  {
   "cell_type": "code",
   "execution_count": 5,
   "metadata": {},
   "outputs": [],
   "source": [
    "import pandas as pd\n",
    "cr=pd.read_csv(r\"C:\\Users\\rks91\\Downloads\\New folder\\CreditRisk.csv\")# r is for raw\n"
   ]
  },
  {
   "cell_type": "code",
   "execution_count": 6,
   "metadata": {},
   "outputs": [],
   "source": [
    "cr.Gender = cr.Gender.fillna('Male')\n",
    "cr.Married = cr.Married.fillna(\"Yes\")\n",
    "cr.Dependents = cr.Dependents.fillna(0)\n",
    "cr.Self_Employed = cr.Self_Employed.fillna('No')\n",
    "cr.LoanAmount = cr.LoanAmount.fillna(120)\n",
    "cr.Loan_Amount_Term = cr.Loan_Amount_Term.fillna(360)\n",
    "cr.Credit_History = cr.Credit_History.fillna(1)"
   ]
  },
  {
   "cell_type": "code",
   "execution_count": 7,
   "metadata": {},
   "outputs": [],
   "source": [
    "cr.Gender.replace({\"Male\": 1, \"Female\": 0}, inplace = True)\n",
    "cr.Married.replace({\"No\": 0, \"Yes\": 1}, inplace = True)\n",
    "cr.Education.replace({\"Graduate\" : 1, \"Not Graduate\": 0}, inplace = True)\n",
    "cr.Self_Employed.replace({\"No\": 0, \"Yes\": 1}, inplace = True)\n",
    "cr.Property_Area.replace({\"Semiurban\": 1, \"Urban\": 2, \"Rural\": 3}, inplace = True)\n",
    "cr.Loan_Status.replace({\"Y\": 1, \"N\": 0}, inplace = True)"
   ]
  },
  {
   "cell_type": "code",
   "execution_count": 8,
   "metadata": {},
   "outputs": [],
   "source": [
    "cr=cr.iloc[:,1:]"
   ]
  },
  {
   "cell_type": "code",
   "execution_count": 9,
   "metadata": {},
   "outputs": [],
   "source": [
    "from sklearn.model_selection import train_test_split"
   ]
  },
  {
   "cell_type": "code",
   "execution_count": 10,
   "metadata": {},
   "outputs": [],
   "source": [
    "cr_train,cr_test=train_test_split(cr,test_size=.2,random_state=555)"
   ]
  },
  {
   "cell_type": "code",
   "execution_count": 11,
   "metadata": {},
   "outputs": [],
   "source": [
    "cr_train_x=cr_train.iloc[:,0:-1]\n",
    "cr_train_y=cr_train.iloc[:,-1]\n",
    "#-----------\n",
    "cr_test_x=cr_test.iloc[:,0:-1]\n",
    "cr_test_y=cr_test.iloc[:,-1]"
   ]
  },
  {
   "cell_type": "code",
   "execution_count": 13,
   "metadata": {},
   "outputs": [],
   "source": [
    "from sklearn.tree import DecisionTreeClassifier"
   ]
  },
  {
   "cell_type": "code",
   "execution_count": 15,
   "metadata": {},
   "outputs": [],
   "source": [
    "dt=DecisionTreeClassifier()"
   ]
  },
  {
   "cell_type": "code",
   "execution_count": 16,
   "metadata": {},
   "outputs": [
    {
     "data": {
      "text/plain": [
       "DecisionTreeClassifier()"
      ]
     },
     "execution_count": 16,
     "metadata": {},
     "output_type": "execute_result"
    }
   ],
   "source": [
    "dt.fit(cr_train_x,cr_train_y)"
   ]
  },
  {
   "cell_type": "code",
   "execution_count": 17,
   "metadata": {},
   "outputs": [
    {
     "data": {
      "text/plain": [
       "array([1, 1, 1, 0, 0, 0, 0, 0, 1, 0, 1, 1, 1, 1, 1, 1, 1, 1, 0, 0, 1, 1,\n",
       "       1, 1, 0, 0, 1, 1, 1, 1, 0, 1, 1, 1, 0, 0, 1, 1, 1, 1, 1, 1, 1, 0,\n",
       "       1, 1, 0, 0, 0, 0, 1, 1, 1, 1, 1, 0, 0, 1, 1, 0, 1, 1, 1, 0, 1, 1,\n",
       "       0, 1, 1, 0, 0, 1, 1, 1, 0, 0, 0, 0, 1, 1, 0, 1, 1, 1, 0, 1, 1, 1,\n",
       "       0, 0, 1, 1, 0, 0, 1, 1, 1, 1, 1, 1, 0, 1, 0, 1, 1, 0, 0, 1, 0, 1,\n",
       "       1, 0, 0, 1, 1, 1, 0, 1, 1, 1, 0, 1, 1, 1, 1, 1, 0, 1, 1, 1, 0, 1,\n",
       "       0, 1, 1, 1, 1, 0, 1, 1, 1, 1, 1, 1, 0, 1, 0, 1, 1, 1, 1, 1, 1, 1,\n",
       "       1, 1, 1, 1, 1, 0, 1, 1, 0, 0, 1, 1, 1, 1, 1, 1, 1, 0, 0, 1, 1, 1,\n",
       "       1, 0, 1, 0, 0, 1, 1, 1, 1, 0, 1, 0, 1, 1, 1, 1, 1, 1, 0, 1, 1],\n",
       "      dtype=int64)"
      ]
     },
     "execution_count": 17,
     "metadata": {},
     "output_type": "execute_result"
    }
   ],
   "source": [
    "dt.predict(cr_test_x)"
   ]
  },
  {
   "cell_type": "code",
   "execution_count": 18,
   "metadata": {},
   "outputs": [],
   "source": [
    "from sklearn.metrics import confusion_matrix"
   ]
  },
  {
   "cell_type": "code",
   "execution_count": 19,
   "metadata": {},
   "outputs": [],
   "source": [
    "tab_dt=confusion_matrix(dt.predict(cr_test_x),cr_test_y)"
   ]
  },
  {
   "cell_type": "code",
   "execution_count": 20,
   "metadata": {},
   "outputs": [
    {
     "data": {
      "text/plain": [
       "array([[ 39,  22],\n",
       "       [ 22, 114]], dtype=int64)"
      ]
     },
     "execution_count": 20,
     "metadata": {},
     "output_type": "execute_result"
    }
   ],
   "source": [
    "tab_dt"
   ]
  },
  {
   "cell_type": "code",
   "execution_count": 21,
   "metadata": {},
   "outputs": [
    {
     "data": {
      "text/plain": [
       "0.7766497461928934"
      ]
     },
     "execution_count": 21,
     "metadata": {},
     "output_type": "execute_result"
    }
   ],
   "source": [
    "tab_dt.diagonal().sum()/tab_dt.sum()"
   ]
  },
  {
   "cell_type": "code",
   "execution_count": 22,
   "metadata": {},
   "outputs": [
    {
     "data": {
      "text/plain": [
       "array([0.01763097, 0.00436254, 0.04467617, 0.00591936, 0.01385105,\n",
       "       0.25520903, 0.05453786, 0.12416165, 0.03256197, 0.42031154,\n",
       "       0.02677785])"
      ]
     },
     "execution_count": 22,
     "metadata": {},
     "output_type": "execute_result"
    }
   ],
   "source": [
    "dt.feature_importances_"
   ]
  },
  {
   "cell_type": "code",
   "execution_count": 23,
   "metadata": {},
   "outputs": [
    {
     "data": {
      "text/plain": [
       "1.0000000000000002"
      ]
     },
     "execution_count": 23,
     "metadata": {},
     "output_type": "execute_result"
    }
   ],
   "source": [
    "dt.feature_importances_.sum()"
   ]
  },
  {
   "cell_type": "code",
   "execution_count": 24,
   "metadata": {},
   "outputs": [],
   "source": [
    "feature_importance=pd.DataFrame({\"Feature\":cr_train_x.columns,\"Importance\":dt.feature_importances_})"
   ]
  },
  {
   "cell_type": "code",
   "execution_count": 26,
   "metadata": {},
   "outputs": [],
   "source": [
    "#feature_importance"
   ]
  },
  {
   "cell_type": "code",
   "execution_count": 27,
   "metadata": {},
   "outputs": [
    {
     "data": {
      "text/html": [
       "<div>\n",
       "<style scoped>\n",
       "    .dataframe tbody tr th:only-of-type {\n",
       "        vertical-align: middle;\n",
       "    }\n",
       "\n",
       "    .dataframe tbody tr th {\n",
       "        vertical-align: top;\n",
       "    }\n",
       "\n",
       "    .dataframe thead th {\n",
       "        text-align: right;\n",
       "    }\n",
       "</style>\n",
       "<table border=\"1\" class=\"dataframe\">\n",
       "  <thead>\n",
       "    <tr style=\"text-align: right;\">\n",
       "      <th></th>\n",
       "      <th>Feature</th>\n",
       "      <th>Importance</th>\n",
       "    </tr>\n",
       "  </thead>\n",
       "  <tbody>\n",
       "    <tr>\n",
       "      <th>9</th>\n",
       "      <td>Credit_History</td>\n",
       "      <td>0.420312</td>\n",
       "    </tr>\n",
       "    <tr>\n",
       "      <th>5</th>\n",
       "      <td>ApplicantIncome</td>\n",
       "      <td>0.255209</td>\n",
       "    </tr>\n",
       "    <tr>\n",
       "      <th>7</th>\n",
       "      <td>LoanAmount</td>\n",
       "      <td>0.124162</td>\n",
       "    </tr>\n",
       "    <tr>\n",
       "      <th>6</th>\n",
       "      <td>CoapplicantIncome</td>\n",
       "      <td>0.054538</td>\n",
       "    </tr>\n",
       "    <tr>\n",
       "      <th>2</th>\n",
       "      <td>Dependents</td>\n",
       "      <td>0.044676</td>\n",
       "    </tr>\n",
       "    <tr>\n",
       "      <th>8</th>\n",
       "      <td>Loan_Amount_Term</td>\n",
       "      <td>0.032562</td>\n",
       "    </tr>\n",
       "    <tr>\n",
       "      <th>10</th>\n",
       "      <td>Property_Area</td>\n",
       "      <td>0.026778</td>\n",
       "    </tr>\n",
       "    <tr>\n",
       "      <th>0</th>\n",
       "      <td>Gender</td>\n",
       "      <td>0.017631</td>\n",
       "    </tr>\n",
       "    <tr>\n",
       "      <th>4</th>\n",
       "      <td>Self_Employed</td>\n",
       "      <td>0.013851</td>\n",
       "    </tr>\n",
       "    <tr>\n",
       "      <th>3</th>\n",
       "      <td>Education</td>\n",
       "      <td>0.005919</td>\n",
       "    </tr>\n",
       "    <tr>\n",
       "      <th>1</th>\n",
       "      <td>Married</td>\n",
       "      <td>0.004363</td>\n",
       "    </tr>\n",
       "  </tbody>\n",
       "</table>\n",
       "</div>"
      ],
      "text/plain": [
       "              Feature  Importance\n",
       "9      Credit_History    0.420312\n",
       "5     ApplicantIncome    0.255209\n",
       "7          LoanAmount    0.124162\n",
       "6   CoapplicantIncome    0.054538\n",
       "2          Dependents    0.044676\n",
       "8    Loan_Amount_Term    0.032562\n",
       "10      Property_Area    0.026778\n",
       "0              Gender    0.017631\n",
       "4       Self_Employed    0.013851\n",
       "3           Education    0.005919\n",
       "1             Married    0.004363"
      ]
     },
     "execution_count": 27,
     "metadata": {},
     "output_type": "execute_result"
    }
   ],
   "source": [
    "feature_importance.sort_values('Importance',ascending=False)"
   ]
  },
  {
   "cell_type": "code",
   "execution_count": 29,
   "metadata": {},
   "outputs": [],
   "source": [
    "mp=pd.read_csv(r\"C:\\Users\\rks91\\Downloads\\New folder\\PytLogistic\\Decision Tree\\Mobile price\\trainRF.csv\")"
   ]
  },
  {
   "cell_type": "code",
   "execution_count": 31,
   "metadata": {},
   "outputs": [],
   "source": [
    "#mp.head()"
   ]
  },
  {
   "cell_type": "code",
   "execution_count": 32,
   "metadata": {},
   "outputs": [],
   "source": [
    "from sklearn.model_selection import train_test_split"
   ]
  },
  {
   "cell_type": "code",
   "execution_count": 33,
   "metadata": {},
   "outputs": [],
   "source": [
    "mp_train,mp_test=train_test_split(mp,test_size=.2,random_state=555)"
   ]
  },
  {
   "cell_type": "code",
   "execution_count": 34,
   "metadata": {},
   "outputs": [],
   "source": [
    "mp_train_x=mp_train.iloc[:,0:-1]\n",
    "mp_train_y=mp_train.iloc[:,-1]\n",
    "#-----------\n",
    "mp_test_x=mp_test.iloc[:,0:-1]\n",
    "mp_test_y=mp_test.iloc[:,-1]"
   ]
  },
  {
   "cell_type": "code",
   "execution_count": 35,
   "metadata": {},
   "outputs": [],
   "source": [
    "from sklearn.tree import DecisionTreeClassifier\n",
    "dt_mp=DecisionTreeClassifier()"
   ]
  },
  {
   "cell_type": "code",
   "execution_count": 36,
   "metadata": {},
   "outputs": [
    {
     "data": {
      "text/plain": [
       "DecisionTreeClassifier()"
      ]
     },
     "execution_count": 36,
     "metadata": {},
     "output_type": "execute_result"
    }
   ],
   "source": [
    "dt_mp.fit(mp_train_x,mp_train_y)"
   ]
  },
  {
   "cell_type": "code",
   "execution_count": 37,
   "metadata": {},
   "outputs": [
    {
     "data": {
      "text/plain": [
       "array([0, 2, 1, 2, 3, 1, 3, 0, 0, 1, 2, 1, 0, 3, 0, 1, 1, 1, 1, 2, 2, 1,\n",
       "       1, 2, 3, 3, 3, 0, 3, 0, 1, 3, 2, 2, 0, 1, 1, 3, 0, 3, 0, 1, 2, 0,\n",
       "       0, 0, 0, 1, 1, 2, 1, 2, 2, 2, 3, 3, 0, 3, 2, 3, 1, 3, 0, 0, 2, 1,\n",
       "       1, 0, 1, 2, 1, 3, 1, 3, 3, 1, 2, 3, 2, 1, 0, 2, 1, 3, 3, 3, 1, 3,\n",
       "       1, 3, 3, 1, 3, 3, 0, 2, 3, 1, 1, 2, 3, 3, 1, 0, 3, 3, 0, 3, 0, 3,\n",
       "       3, 2, 3, 1, 3, 1, 0, 2, 2, 2, 0, 2, 0, 3, 3, 0, 0, 0, 3, 1, 0, 3,\n",
       "       1, 1, 3, 2, 0, 3, 2, 1, 0, 2, 1, 0, 1, 0, 0, 0, 2, 3, 3, 1, 2, 0,\n",
       "       0, 3, 1, 1, 0, 2, 0, 1, 0, 3, 3, 1, 0, 0, 2, 3, 2, 3, 0, 0, 3, 1,\n",
       "       2, 1, 1, 1, 1, 2, 2, 0, 1, 0, 1, 0, 0, 2, 1, 2, 0, 2, 3, 3, 2, 1,\n",
       "       1, 2, 2, 2, 2, 3, 1, 1, 2, 3, 1, 0, 0, 3, 0, 1, 1, 0, 2, 0, 3, 0,\n",
       "       0, 3, 0, 2, 0, 1, 1, 1, 3, 3, 0, 2, 3, 1, 3, 2, 3, 2, 0, 1, 1, 3,\n",
       "       2, 0, 1, 3, 0, 2, 0, 2, 2, 1, 2, 1, 3, 2, 3, 2, 2, 0, 1, 2, 2, 1,\n",
       "       1, 2, 1, 0, 3, 2, 1, 0, 0, 1, 1, 2, 1, 2, 1, 2, 3, 1, 0, 0, 0, 1,\n",
       "       2, 2, 1, 3, 3, 1, 0, 3, 3, 3, 3, 1, 2, 1, 3, 3, 2, 1, 2, 3, 2, 1,\n",
       "       3, 3, 2, 0, 1, 1, 2, 3, 3, 2, 3, 0, 3, 1, 3, 2, 1, 3, 2, 0, 0, 3,\n",
       "       2, 2, 0, 3, 1, 1, 1, 3, 0, 0, 3, 2, 0, 1, 0, 1, 1, 2, 0, 1, 2, 3,\n",
       "       0, 3, 3, 1, 0, 2, 2, 2, 1, 2, 2, 1, 2, 2, 2, 0, 1, 1, 2, 1, 1, 3,\n",
       "       0, 2, 2, 1, 0, 2, 0, 3, 3, 0, 1, 1, 2, 3, 0, 2, 3, 3, 0, 0, 2, 3,\n",
       "       1, 1, 3, 3], dtype=int64)"
      ]
     },
     "execution_count": 37,
     "metadata": {},
     "output_type": "execute_result"
    }
   ],
   "source": [
    "dt_mp.predict(mp_test_x)"
   ]
  },
  {
   "cell_type": "code",
   "execution_count": 38,
   "metadata": {},
   "outputs": [],
   "source": [
    "from sklearn.metrics import confusion_matrix"
   ]
  },
  {
   "cell_type": "code",
   "execution_count": 39,
   "metadata": {},
   "outputs": [],
   "source": [
    "tab_dt_mp=confusion_matrix(dt_mp.predict(mp_test_x),mp_test_y)"
   ]
  },
  {
   "cell_type": "code",
   "execution_count": 40,
   "metadata": {},
   "outputs": [
    {
     "data": {
      "text/plain": [
       "array([[82, 10,  0,  0],\n",
       "       [15, 84, 10,  0],\n",
       "       [ 0,  8, 73, 16],\n",
       "       [ 0,  0,  6, 96]], dtype=int64)"
      ]
     },
     "execution_count": 40,
     "metadata": {},
     "output_type": "execute_result"
    }
   ],
   "source": [
    "tab_dt_mp"
   ]
  },
  {
   "cell_type": "code",
   "execution_count": 41,
   "metadata": {},
   "outputs": [
    {
     "data": {
      "text/plain": [
       "0.8375"
      ]
     },
     "execution_count": 41,
     "metadata": {},
     "output_type": "execute_result"
    }
   ],
   "source": [
    "tab_dt_mp.diagonal().sum()/tab_dt_mp.sum()"
   ]
  },
  {
   "cell_type": "code",
   "execution_count": 42,
   "metadata": {},
   "outputs": [],
   "source": [
    "feature_importance=pd.DataFrame({\"Feature\":mp_train_x.columns,\"Importance\":dt_mp.feature_importances_})"
   ]
  },
  {
   "cell_type": "code",
   "execution_count": 43,
   "metadata": {},
   "outputs": [
    {
     "data": {
      "text/html": [
       "<div>\n",
       "<style scoped>\n",
       "    .dataframe tbody tr th:only-of-type {\n",
       "        vertical-align: middle;\n",
       "    }\n",
       "\n",
       "    .dataframe tbody tr th {\n",
       "        vertical-align: top;\n",
       "    }\n",
       "\n",
       "    .dataframe thead th {\n",
       "        text-align: right;\n",
       "    }\n",
       "</style>\n",
       "<table border=\"1\" class=\"dataframe\">\n",
       "  <thead>\n",
       "    <tr style=\"text-align: right;\">\n",
       "      <th></th>\n",
       "      <th>Feature</th>\n",
       "      <th>Importance</th>\n",
       "    </tr>\n",
       "  </thead>\n",
       "  <tbody>\n",
       "    <tr>\n",
       "      <th>13</th>\n",
       "      <td>ram</td>\n",
       "      <td>0.601572</td>\n",
       "    </tr>\n",
       "    <tr>\n",
       "      <th>0</th>\n",
       "      <td>battery_power</td>\n",
       "      <td>0.144910</td>\n",
       "    </tr>\n",
       "    <tr>\n",
       "      <th>11</th>\n",
       "      <td>px_height</td>\n",
       "      <td>0.100846</td>\n",
       "    </tr>\n",
       "    <tr>\n",
       "      <th>12</th>\n",
       "      <td>px_width</td>\n",
       "      <td>0.065833</td>\n",
       "    </tr>\n",
       "    <tr>\n",
       "      <th>8</th>\n",
       "      <td>mobile_wt</td>\n",
       "      <td>0.019113</td>\n",
       "    </tr>\n",
       "    <tr>\n",
       "      <th>2</th>\n",
       "      <td>clock_speed</td>\n",
       "      <td>0.015951</td>\n",
       "    </tr>\n",
       "    <tr>\n",
       "      <th>16</th>\n",
       "      <td>talk_time</td>\n",
       "      <td>0.009895</td>\n",
       "    </tr>\n",
       "    <tr>\n",
       "      <th>6</th>\n",
       "      <td>int_memory</td>\n",
       "      <td>0.009725</td>\n",
       "    </tr>\n",
       "    <tr>\n",
       "      <th>10</th>\n",
       "      <td>pc</td>\n",
       "      <td>0.007626</td>\n",
       "    </tr>\n",
       "    <tr>\n",
       "      <th>14</th>\n",
       "      <td>sc_h</td>\n",
       "      <td>0.006845</td>\n",
       "    </tr>\n",
       "    <tr>\n",
       "      <th>15</th>\n",
       "      <td>sc_w</td>\n",
       "      <td>0.006415</td>\n",
       "    </tr>\n",
       "    <tr>\n",
       "      <th>4</th>\n",
       "      <td>fc</td>\n",
       "      <td>0.005935</td>\n",
       "    </tr>\n",
       "    <tr>\n",
       "      <th>1</th>\n",
       "      <td>blue</td>\n",
       "      <td>0.002223</td>\n",
       "    </tr>\n",
       "    <tr>\n",
       "      <th>9</th>\n",
       "      <td>n_cores</td>\n",
       "      <td>0.002000</td>\n",
       "    </tr>\n",
       "    <tr>\n",
       "      <th>7</th>\n",
       "      <td>m_dep</td>\n",
       "      <td>0.001111</td>\n",
       "    </tr>\n",
       "    <tr>\n",
       "      <th>5</th>\n",
       "      <td>four_g</td>\n",
       "      <td>0.000000</td>\n",
       "    </tr>\n",
       "    <tr>\n",
       "      <th>3</th>\n",
       "      <td>dual_sim</td>\n",
       "      <td>0.000000</td>\n",
       "    </tr>\n",
       "    <tr>\n",
       "      <th>17</th>\n",
       "      <td>three_g</td>\n",
       "      <td>0.000000</td>\n",
       "    </tr>\n",
       "    <tr>\n",
       "      <th>18</th>\n",
       "      <td>touch_screen</td>\n",
       "      <td>0.000000</td>\n",
       "    </tr>\n",
       "    <tr>\n",
       "      <th>19</th>\n",
       "      <td>wifi</td>\n",
       "      <td>0.000000</td>\n",
       "    </tr>\n",
       "  </tbody>\n",
       "</table>\n",
       "</div>"
      ],
      "text/plain": [
       "          Feature  Importance\n",
       "13            ram    0.601572\n",
       "0   battery_power    0.144910\n",
       "11      px_height    0.100846\n",
       "12       px_width    0.065833\n",
       "8       mobile_wt    0.019113\n",
       "2     clock_speed    0.015951\n",
       "16      talk_time    0.009895\n",
       "6      int_memory    0.009725\n",
       "10             pc    0.007626\n",
       "14           sc_h    0.006845\n",
       "15           sc_w    0.006415\n",
       "4              fc    0.005935\n",
       "1            blue    0.002223\n",
       "9         n_cores    0.002000\n",
       "7           m_dep    0.001111\n",
       "5          four_g    0.000000\n",
       "3        dual_sim    0.000000\n",
       "17        three_g    0.000000\n",
       "18   touch_screen    0.000000\n",
       "19           wifi    0.000000"
      ]
     },
     "execution_count": 43,
     "metadata": {},
     "output_type": "execute_result"
    }
   ],
   "source": [
    "feature_importance.sort_values('Importance',ascending=False)"
   ]
  },
  {
   "cell_type": "code",
   "execution_count": 44,
   "metadata": {},
   "outputs": [],
   "source": [
    "#------------------------------"
   ]
  },
  {
   "cell_type": "code",
   "execution_count": 45,
   "metadata": {},
   "outputs": [],
   "source": [
    "mp=pd.read_csv(r\"C:\\Users\\rks91\\Downloads\\New folder\\PytLogistic\\Decision Tree\\Insurance_suscribe.csv\")"
   ]
  },
  {
   "cell_type": "code",
   "execution_count": null,
   "metadata": {},
   "outputs": [],
   "source": []
  },
  {
   "cell_type": "code",
   "execution_count": null,
   "metadata": {},
   "outputs": [],
   "source": []
  },
  {
   "cell_type": "code",
   "execution_count": null,
   "metadata": {},
   "outputs": [],
   "source": []
  },
  {
   "cell_type": "code",
   "execution_count": 46,
   "metadata": {},
   "outputs": [],
   "source": [
    "cr=pd.read_csv(r\"C:\\Users\\rks91\\Downloads\\New folder\\CreditRisk.csv\")# r is for raw\n",
    "cr.Gender = cr.Gender.fillna('Male')\n",
    "cr.Married = cr.Married.fillna(\"Yes\")\n",
    "cr.Dependents = cr.Dependents.fillna(0)\n",
    "cr.Self_Employed = cr.Self_Employed.fillna('No')\n",
    "cr.LoanAmount = cr.LoanAmount.fillna(120)\n",
    "cr.Loan_Amount_Term = cr.Loan_Amount_Term.fillna(360)\n",
    "cr.Credit_History = cr.Credit_History.fillna(1)\n",
    "#-----------------------\n",
    "cr.Gender.replace({\"Male\": 1, \"Female\": 0}, inplace = True)\n",
    "cr.Married.replace({\"No\": 0, \"Yes\": 1}, inplace = True)\n",
    "cr.Education.replace({\"Graduate\" : 1, \"Not Graduate\": 0}, inplace = True)\n",
    "cr.Self_Employed.replace({\"No\": 0, \"Yes\": 1}, inplace = True)\n",
    "cr.Property_Area.replace({\"Semiurban\": 1, \"Urban\": 2, \"Rural\": 3}, inplace = True)\n",
    "cr.Loan_Status.replace({\"Y\": 1, \"N\": 0}, inplace = True)\n",
    "#---------------------------\n",
    "cr=cr.iloc[:,1:]\n",
    "#-------------------------\n"
   ]
  },
  {
   "cell_type": "code",
   "execution_count": 47,
   "metadata": {},
   "outputs": [],
   "source": [
    "from sklearn.ensemble import RandomForestClassifier"
   ]
  },
  {
   "cell_type": "code",
   "execution_count": 48,
   "metadata": {},
   "outputs": [],
   "source": [
    "rfc=RandomForestClassifier()"
   ]
  },
  {
   "cell_type": "code",
   "execution_count": 49,
   "metadata": {},
   "outputs": [
    {
     "data": {
      "text/plain": [
       "RandomForestClassifier()"
      ]
     },
     "execution_count": 49,
     "metadata": {},
     "output_type": "execute_result"
    }
   ],
   "source": [
    "rfc.fit(cr_train_x,cr_train_y)"
   ]
  },
  {
   "cell_type": "code",
   "execution_count": 50,
   "metadata": {},
   "outputs": [
    {
     "data": {
      "text/plain": [
       "array([[ 33,   8],\n",
       "       [ 28, 128]], dtype=int64)"
      ]
     },
     "execution_count": 50,
     "metadata": {},
     "output_type": "execute_result"
    }
   ],
   "source": [
    "tab_rfc=confusion_matrix(rfc.predict(cr_test_x),cr_test_y)\n",
    "tab_rfc"
   ]
  },
  {
   "cell_type": "code",
   "execution_count": 51,
   "metadata": {},
   "outputs": [],
   "source": [
    "feature_importance_rfc=pd.DataFrame({\"Feature\":cr_train_x.columns,\"Importance\":rfc.feature_importances_})"
   ]
  },
  {
   "cell_type": "code",
   "execution_count": 52,
   "metadata": {},
   "outputs": [
    {
     "data": {
      "text/html": [
       "<div>\n",
       "<style scoped>\n",
       "    .dataframe tbody tr th:only-of-type {\n",
       "        vertical-align: middle;\n",
       "    }\n",
       "\n",
       "    .dataframe tbody tr th {\n",
       "        vertical-align: top;\n",
       "    }\n",
       "\n",
       "    .dataframe thead th {\n",
       "        text-align: right;\n",
       "    }\n",
       "</style>\n",
       "<table border=\"1\" class=\"dataframe\">\n",
       "  <thead>\n",
       "    <tr style=\"text-align: right;\">\n",
       "      <th></th>\n",
       "      <th>Feature</th>\n",
       "      <th>Importance</th>\n",
       "    </tr>\n",
       "  </thead>\n",
       "  <tbody>\n",
       "    <tr>\n",
       "      <th>9</th>\n",
       "      <td>Credit_History</td>\n",
       "      <td>0.387622</td>\n",
       "    </tr>\n",
       "    <tr>\n",
       "      <th>5</th>\n",
       "      <td>ApplicantIncome</td>\n",
       "      <td>0.181678</td>\n",
       "    </tr>\n",
       "    <tr>\n",
       "      <th>7</th>\n",
       "      <td>LoanAmount</td>\n",
       "      <td>0.153375</td>\n",
       "    </tr>\n",
       "    <tr>\n",
       "      <th>6</th>\n",
       "      <td>CoapplicantIncome</td>\n",
       "      <td>0.093106</td>\n",
       "    </tr>\n",
       "    <tr>\n",
       "      <th>10</th>\n",
       "      <td>Property_Area</td>\n",
       "      <td>0.038009</td>\n",
       "    </tr>\n",
       "    <tr>\n",
       "      <th>2</th>\n",
       "      <td>Dependents</td>\n",
       "      <td>0.037424</td>\n",
       "    </tr>\n",
       "    <tr>\n",
       "      <th>8</th>\n",
       "      <td>Loan_Amount_Term</td>\n",
       "      <td>0.037069</td>\n",
       "    </tr>\n",
       "    <tr>\n",
       "      <th>1</th>\n",
       "      <td>Married</td>\n",
       "      <td>0.019855</td>\n",
       "    </tr>\n",
       "    <tr>\n",
       "      <th>3</th>\n",
       "      <td>Education</td>\n",
       "      <td>0.019351</td>\n",
       "    </tr>\n",
       "    <tr>\n",
       "      <th>0</th>\n",
       "      <td>Gender</td>\n",
       "      <td>0.017685</td>\n",
       "    </tr>\n",
       "    <tr>\n",
       "      <th>4</th>\n",
       "      <td>Self_Employed</td>\n",
       "      <td>0.014827</td>\n",
       "    </tr>\n",
       "  </tbody>\n",
       "</table>\n",
       "</div>"
      ],
      "text/plain": [
       "              Feature  Importance\n",
       "9      Credit_History    0.387622\n",
       "5     ApplicantIncome    0.181678\n",
       "7          LoanAmount    0.153375\n",
       "6   CoapplicantIncome    0.093106\n",
       "10      Property_Area    0.038009\n",
       "2          Dependents    0.037424\n",
       "8    Loan_Amount_Term    0.037069\n",
       "1             Married    0.019855\n",
       "3           Education    0.019351\n",
       "0              Gender    0.017685\n",
       "4       Self_Employed    0.014827"
      ]
     },
     "execution_count": 52,
     "metadata": {},
     "output_type": "execute_result"
    }
   ],
   "source": [
    "feature_importance_rfc.sort_values('Importance',ascending=False)"
   ]
  },
  {
   "cell_type": "code",
   "execution_count": null,
   "metadata": {},
   "outputs": [],
   "source": []
  }
 ],
 "metadata": {
  "kernelspec": {
   "display_name": "Python 3",
   "language": "python",
   "name": "python3"
  },
  "language_info": {
   "codemirror_mode": {
    "name": "ipython",
    "version": 3
   },
   "file_extension": ".py",
   "mimetype": "text/x-python",
   "name": "python",
   "nbconvert_exporter": "python",
   "pygments_lexer": "ipython3",
   "version": "3.8.5"
  }
 },
 "nbformat": 4,
 "nbformat_minor": 4
}
