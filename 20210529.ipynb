{
 "cells": [
  {
   "cell_type": "code",
   "execution_count": 1,
   "metadata": {},
   "outputs": [],
   "source": [
    "import pandas as pd\n",
    "vacc=pd.read_csv(r\"C:\\Users\\rks91\\Downloads\\New folder\\PytLogistic\\Vaccine Usage Prediction\\Dataset\\h1n1_vaccine_prediction.csv\")\n"
   ]
  },
  {
   "cell_type": "code",
   "execution_count": 2,
   "metadata": {},
   "outputs": [],
   "source": [
    "vacc.h1n1_worry = vacc.h1n1_worry.fillna(0)\n",
    "vacc.h1n1_awareness = vacc.h1n1_awareness.fillna(1)\n",
    "vacc.antiviral_medication = vacc.antiviral_medication.fillna(0)\n",
    "vacc.contact_avoidance = vacc.contact_avoidance.fillna(0)\n",
    "vacc.bought_face_mask =vacc.bought_face_mask.fillna(0)\n",
    "vacc.wash_hands_frequently=vacc.wash_hands_frequently.fillna(0)\n",
    "vacc.avoid_large_gatherings=vacc.avoid_large_gatherings.fillna(0)\n",
    "vacc.reduced_outside_home_cont=vacc.reduced_outside_home_cont.fillna(0)\n",
    "vacc.avoid_touch_face=vacc.avoid_touch_face.fillna(0)\n",
    "vacc.dr_recc_h1n1_vacc=vacc.dr_recc_h1n1_vacc.fillna(0)\n",
    "vacc.dr_recc_seasonal_vacc=vacc.dr_recc_seasonal_vacc.fillna(0)\n",
    "vacc.chronic_medic_condition= vacc.chronic_medic_condition.fillna(0)\n",
    "vacc.cont_child_undr_6_mnths= vacc.cont_child_undr_6_mnths.fillna(0)\n",
    "vacc.is_health_worker=vacc.is_health_worker.fillna(0)\n",
    "vacc.has_health_insur = vacc.has_health_insur.fillna(0)\n",
    "vacc.is_h1n1_vacc_effective= vacc.is_h1n1_vacc_effective.fillna(2)\n",
    "vacc.is_h1n1_risky = vacc.is_h1n1_risky.fillna(2)\n",
    "vacc.sick_from_h1n1_vacc= vacc.sick_from_h1n1_vacc.fillna(2)\n",
    "vacc.is_seas_vacc_effective= vacc.is_seas_vacc_effective.fillna(2)\n",
    "vacc.is_seas_risky = vacc.is_seas_risky.fillna(2)\n",
    "vacc.sick_from_seas_vacc= vacc.sick_from_seas_vacc.fillna(2)\n",
    "vacc.qualification= vacc.qualification.fillna(\"12 Years\")\n",
    "vacc.income_level= vacc.income_level.fillna(\"<= $75,000, Above Poverty\")\n",
    "vacc.marital_status= vacc.marital_status.fillna(\"Not Married\")\n",
    "vacc.housing_status= vacc.housing_status.fillna(\"Rent\")\n",
    "vacc.employment= vacc.employment.fillna(\"Employed\")\n",
    "vacc.no_of_adults= vacc.no_of_adults.fillna(1)\n",
    "vacc.no_of_children= vacc.no_of_children.fillna(1)"
   ]
  },
  {
   "cell_type": "code",
   "execution_count": 5,
   "metadata": {},
   "outputs": [],
   "source": [
    "#vacc.isnull().sum()"
   ]
  },
  {
   "cell_type": "code",
   "execution_count": 3,
   "metadata": {},
   "outputs": [],
   "source": [
    "from sklearn.preprocessing import LabelEncoder\n",
    "le = LabelEncoder()"
   ]
  },
  {
   "cell_type": "code",
   "execution_count": 4,
   "metadata": {},
   "outputs": [],
   "source": [
    "vacc = vacc.iloc[:, 1: ]"
   ]
  },
  {
   "cell_type": "code",
   "execution_count": 5,
   "metadata": {},
   "outputs": [],
   "source": [
    "vacc[vacc.select_dtypes(include=['object']).columns ] = vacc[ vacc.select_dtypes(include=['object']).columns ].apply(le.fit_transform)"
   ]
  },
  {
   "cell_type": "code",
   "execution_count": 6,
   "metadata": {},
   "outputs": [],
   "source": [
    "from sklearn.model_selection import train_test_split"
   ]
  },
  {
   "cell_type": "code",
   "execution_count": 7,
   "metadata": {},
   "outputs": [],
   "source": [
    "vacc_train,vacc_test=train_test_split(vacc,test_size=.2,random_state=555)"
   ]
  },
  {
   "cell_type": "code",
   "execution_count": 8,
   "metadata": {},
   "outputs": [],
   "source": [
    "vacc_train_x=vacc_train.iloc[:,0:-1]\n",
    "vacc_train_y=vacc_train.iloc[:,-1]\n",
    "\n",
    "vacc_test_x=vacc_test.iloc[:,0:-1]\n",
    "vacc_test_y=vacc_test.iloc[:,-1]"
   ]
  },
  {
   "cell_type": "code",
   "execution_count": 11,
   "metadata": {},
   "outputs": [],
   "source": [
    "from sklearn.linear_model import LogisticRegression\n",
    "glm=LogisticRegression()"
   ]
  },
  {
   "cell_type": "code",
   "execution_count": 12,
   "metadata": {},
   "outputs": [
    {
     "name": "stderr",
     "output_type": "stream",
     "text": [
      "C:\\Users\\rks91\\anaconda3\\lib\\site-packages\\sklearn\\linear_model\\_logistic.py:762: ConvergenceWarning: lbfgs failed to converge (status=1):\n",
      "STOP: TOTAL NO. of ITERATIONS REACHED LIMIT.\n",
      "\n",
      "Increase the number of iterations (max_iter) or scale the data as shown in:\n",
      "    https://scikit-learn.org/stable/modules/preprocessing.html\n",
      "Please also refer to the documentation for alternative solver options:\n",
      "    https://scikit-learn.org/stable/modules/linear_model.html#logistic-regression\n",
      "  n_iter_i = _check_optimize_result(\n"
     ]
    },
    {
     "data": {
      "text/plain": [
       "LogisticRegression()"
      ]
     },
     "execution_count": 12,
     "metadata": {},
     "output_type": "execute_result"
    }
   ],
   "source": [
    "glm.fit(vacc_train_x,vacc_train_y)"
   ]
  },
  {
   "cell_type": "code",
   "execution_count": 13,
   "metadata": {},
   "outputs": [
    {
     "data": {
      "text/plain": [
       "array([[3942,  615],\n",
       "       [ 227,  558]], dtype=int64)"
      ]
     },
     "execution_count": 13,
     "metadata": {},
     "output_type": "execute_result"
    }
   ],
   "source": [
    "from sklearn.metrics import confusion_matrix\n",
    "\n",
    "tab = confusion_matrix(glm.predict(vacc_test_x),vacc_test_y)\n",
    "tab"
   ]
  },
  {
   "cell_type": "code",
   "execution_count": 16,
   "metadata": {},
   "outputs": [],
   "source": [
    "pred=glm.predict(vacc_test_x)"
   ]
  },
  {
   "cell_type": "code",
   "execution_count": 17,
   "metadata": {},
   "outputs": [
    {
     "data": {
      "text/plain": [
       "0.8423811306626732"
      ]
     },
     "execution_count": 17,
     "metadata": {},
     "output_type": "execute_result"
    }
   ],
   "source": [
    "from sklearn.metrics import accuracy_score\n",
    "accuracy_score(vacc_test_y,pred)"
   ]
  },
  {
   "cell_type": "code",
   "execution_count": 18,
   "metadata": {},
   "outputs": [
    {
     "data": {
      "text/plain": [
       "0.710828025477707"
      ]
     },
     "execution_count": 18,
     "metadata": {},
     "output_type": "execute_result"
    }
   ],
   "source": [
    "from sklearn.metrics import precision_score\n",
    "precision_score(vacc_test_y,pred)"
   ]
  },
  {
   "cell_type": "code",
   "execution_count": 30,
   "metadata": {},
   "outputs": [
    {
     "data": {
      "text/plain": [
       "0.7867839760389367"
      ]
     },
     "execution_count": 30,
     "metadata": {},
     "output_type": "execute_result"
    }
   ],
   "source": [
    "#(3356+847)/(3356+847+840+299)"
   ]
  },
  {
   "cell_type": "code",
   "execution_count": 31,
   "metadata": {},
   "outputs": [
    {
     "data": {
      "text/plain": [
       "0.5020746887966805"
      ]
     },
     "execution_count": 31,
     "metadata": {},
     "output_type": "execute_result"
    }
   ],
   "source": [
    "#847/(840+847)"
   ]
  },
  {
   "cell_type": "code",
   "execution_count": 20,
   "metadata": {},
   "outputs": [
    {
     "data": {
      "text/plain": [
       "array([[ 9.46872957e-03,  2.22050970e-01,  1.40985185e-01,\n",
       "        -5.99190870e-02,  1.77176422e-01,  3.94676044e-02,\n",
       "        -1.23358022e-01, -2.27784693e-04,  3.98221154e-02,\n",
       "         1.97557077e+00, -4.80255209e-01, -6.19941813e-03,\n",
       "         3.09819271e-01,  7.92018876e-01,  1.42867407e+00,\n",
       "         5.15189935e-01,  4.28567131e-01,  6.21586114e-04,\n",
       "         2.96916161e-02,  1.31432855e-01, -8.67889454e-02,\n",
       "         1.26774960e-01, -1.88975789e-02,  9.12948184e-02,\n",
       "         2.20511715e-01, -4.35177778e-02, -6.92766987e-02,\n",
       "         2.23469741e-01, -5.02491016e-02,  4.64407418e-02,\n",
       "         2.34956689e-02,  2.21347722e-02]])"
      ]
     },
     "execution_count": 20,
     "metadata": {},
     "output_type": "execute_result"
    }
   ],
   "source": [
    "glm.coef_"
   ]
  },
  {
   "cell_type": "code",
   "execution_count": 21,
   "metadata": {},
   "outputs": [
    {
     "data": {
      "text/plain": [
       "array([-7.11610987])"
      ]
     },
     "execution_count": 21,
     "metadata": {},
     "output_type": "execute_result"
    }
   ],
   "source": [
    "glm.intercept_"
   ]
  },
  {
   "cell_type": "code",
   "execution_count": 22,
   "metadata": {},
   "outputs": [
    {
     "data": {
      "text/plain": [
       "0.7106269082664092"
      ]
     },
     "execution_count": 22,
     "metadata": {},
     "output_type": "execute_result"
    }
   ],
   "source": [
    "from sklearn.metrics import roc_auc_score\n",
    "from sklearn.metrics import roc_curve\n",
    "log_roc_auc=roc_auc_score(vacc_test_y,pred)\n",
    "log_roc_auc"
   ]
  },
  {
   "cell_type": "code",
   "execution_count": 24,
   "metadata": {},
   "outputs": [],
   "source": [
    "pred_value_prob=glm.predict_proba(vacc_test_x) \n",
    "fpr,tpr,threshold=roc_curve(vacc_test_y,pred_value_prob[:,1])"
   ]
  },
  {
   "cell_type": "code",
   "execution_count": 32,
   "metadata": {},
   "outputs": [],
   "source": [
    "#tpr"
   ]
  },
  {
   "cell_type": "code",
   "execution_count": 25,
   "metadata": {},
   "outputs": [
    {
     "ename": "AttributeError",
     "evalue": "module 'matplotlib.pyplot' has no attribute 'x'",
     "output_type": "error",
     "traceback": [
      "\u001b[1;31m---------------------------------------------------------------------------\u001b[0m",
      "\u001b[1;31mAttributeError\u001b[0m                            Traceback (most recent call last)",
      "\u001b[1;32m<ipython-input-25-cdc7680b07c9>\u001b[0m in \u001b[0;36m<module>\u001b[1;34m\u001b[0m\n\u001b[0;32m      2\u001b[0m \u001b[0mplt\u001b[0m\u001b[1;33m.\u001b[0m\u001b[0mfigure\u001b[0m\u001b[1;33m(\u001b[0m\u001b[0mfigsize\u001b[0m\u001b[1;33m=\u001b[0m\u001b[1;33m(\u001b[0m\u001b[1;36m8\u001b[0m\u001b[1;33m,\u001b[0m\u001b[1;36m8\u001b[0m\u001b[1;33m)\u001b[0m\u001b[1;33m)\u001b[0m\u001b[1;33m\u001b[0m\u001b[1;33m\u001b[0m\u001b[0m\n\u001b[0;32m      3\u001b[0m \u001b[0mplt\u001b[0m\u001b[1;33m.\u001b[0m\u001b[0mplot\u001b[0m\u001b[1;33m(\u001b[0m\u001b[0mfpr\u001b[0m\u001b[1;33m,\u001b[0m\u001b[0mtpr\u001b[0m\u001b[1;33m)\u001b[0m\u001b[1;33m\u001b[0m\u001b[1;33m\u001b[0m\u001b[0m\n\u001b[1;32m----> 4\u001b[1;33m \u001b[0mplt\u001b[0m\u001b[1;33m.\u001b[0m\u001b[0mx\u001b[0m\u001b[1;33m;\u001b[0m\u001b[0mabel\u001b[0m\u001b[1;33m(\u001b[0m\u001b[1;34m\"Fpr\"\u001b[0m\u001b[1;33m,\u001b[0m\u001b[0msize\u001b[0m\u001b[1;33m=\u001b[0m\u001b[1;36m20\u001b[0m\u001b[1;33m)\u001b[0m\u001b[1;33m\u001b[0m\u001b[1;33m\u001b[0m\u001b[0m\n\u001b[0m\u001b[0;32m      5\u001b[0m \u001b[0mplt\u001b[0m\u001b[1;33m.\u001b[0m\u001b[0mylabel\u001b[0m\u001b[1;33m(\u001b[0m\u001b[1;34m\"Tpr\"\u001b[0m\u001b[1;33m,\u001b[0m\u001b[0msize\u001b[0m\u001b[1;33m=\u001b[0m\u001b[1;36m20\u001b[0m\u001b[1;33m)\u001b[0m\u001b[1;33m\u001b[0m\u001b[1;33m\u001b[0m\u001b[0m\n\u001b[0;32m      6\u001b[0m \u001b[0mplt\u001b[0m\u001b[1;33m.\u001b[0m\u001b[0mgrid\u001b[0m\u001b[1;33m(\u001b[0m\u001b[1;33m)\u001b[0m\u001b[1;33m\u001b[0m\u001b[1;33m\u001b[0m\u001b[0m\n",
      "\u001b[1;31mAttributeError\u001b[0m: module 'matplotlib.pyplot' has no attribute 'x'"
     ]
    },
    {
     "data": {
      "image/png": "[encoded data removed]",
      "text/plain": [
       "<Figure size 576x576 with 1 Axes>"
      ]
     },
     "metadata": {
      "needs_background": "light"
     },
     "output_type": "display_data"
    }
   ],
   "source": [
    "import matplotlib.pyplot as plt\n",
    "plt.figure(figsize=(8,8))\n",
    "plt.plot(fpr,tpr)\n",
    "plt.x;abel(\"Fpr\",size=20)\n",
    "plt.ylabel(\"Tpr\",size=20)\n",
    "plt.grid()"
   ]
  },
  {
   "cell_type": "code",
   "execution_count": null,
   "metadata": {},
   "outputs": [],
   "source": []
  }
 ],
 "metadata": {
  "kernelspec": {
   "display_name": "Python 3",
   "language": "python",
   "name": "python3"
  },
  "language_info": {
   "codemirror_mode": {
    "name": "ipython",
    "version": 3
   },
   "file_extension": ".py",
   "mimetype": "text/x-python",
   "name": "python",
   "nbconvert_exporter": "python",
   "pygments_lexer": "ipython3",
   "version": "3.8.5"
  }
 },
 "nbformat": 4,
 "nbformat_minor": 4
}
