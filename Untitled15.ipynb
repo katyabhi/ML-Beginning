{
 "cells": [
  {
   "cell_type": "code",
   "execution_count": null,
   "metadata": {},
   "outputs": [],
   "source": [
    "#11th July"
   ]
  },
  {
   "cell_type": "code",
   "execution_count": 1,
   "metadata": {},
   "outputs": [],
   "source": [
    "import warnings\n",
    "\n",
    "warnings.filterwarnings(\"ignore\")"
   ]
  },
  {
   "cell_type": "code",
   "execution_count": 4,
   "metadata": {},
   "outputs": [],
   "source": [
    "from statsmodels.graphics.tsaplots    import      plot_acf , plot_pacf"
   ]
  },
  {
   "cell_type": "code",
   "execution_count": 1,
   "metadata": {},
   "outputs": [],
   "source": [
    "import numpy as np\n",
    "import matplotlib.pyplot as plt\n",
    "import seaborn as sns"
   ]
  },
  {
   "cell_type": "code",
   "execution_count": 3,
   "metadata": {},
   "outputs": [],
   "source": [
    "import pandas as pd\n",
    "airpas=pd.read_csv(r\"C:\\Users\\rks91\\Downloads\\New folder\\data sets\\dst\\AirPassengers.csv\")"
   ]
  },
  {
   "cell_type": "code",
   "execution_count": 5,
   "metadata": {},
   "outputs": [],
   "source": [
    "ind_airpas = airpas.set_index(['Month']) "
   ]
  },
  {
   "cell_type": "code",
   "execution_count": 6,
   "metadata": {},
   "outputs": [],
   "source": [
    "indairlog =np.log(ind_airpas)"
   ]
  },
  {
   "cell_type": "code",
   "execution_count": 7,
   "metadata": {},
   "outputs": [
    {
     "data": {
      "image/png": "[encoded data removed]",
      "text/plain": [
       "<Figure size 432x288 with 1 Axes>"
      ]
     },
     "metadata": {
      "needs_background": "light"
     },
     "output_type": "display_data"
    }
   ],
   "source": [
    "plot_acf(indairlog , lags = 40);\n"
   ]
  },
  {
   "cell_type": "code",
   "execution_count": 8,
   "metadata": {},
   "outputs": [
    {
     "data": {
      "image/png": "[encoded data removed]",
      "text/plain": [
       "<Figure size 432x288 with 1 Axes>"
      ]
     },
     "metadata": {
      "needs_background": "light"
     },
     "output_type": "display_data"
    }
   ],
   "source": [
    "plot_pacf(indairlog  );"
   ]
  },
  {
   "cell_type": "code",
   "execution_count": 9,
   "metadata": {},
   "outputs": [],
   "source": [
    "from statsmodels.tsa.arima_model import ARIMA"
   ]
  },
  {
   "cell_type": "code",
   "execution_count": 10,
   "metadata": {},
   "outputs": [
    {
     "name": "stderr",
     "output_type": "stream",
     "text": [
      "C:\\Users\\rks91\\anaconda3\\lib\\site-packages\\statsmodels\\tsa\\arima_model.py:472: FutureWarning: \n",
      "statsmodels.tsa.arima_model.ARMA and statsmodels.tsa.arima_model.ARIMA have\n",
      "been deprecated in favor of statsmodels.tsa.arima.model.ARIMA (note the .\n",
      "between arima and model) and\n",
      "statsmodels.tsa.SARIMAX. These will be removed after the 0.12 release.\n",
      "\n",
      "statsmodels.tsa.arima.model.ARIMA makes use of the statespace framework and\n",
      "is both well tested and maintained.\n",
      "\n",
      "To silence this warning and continue using ARMA and ARIMA until they are\n",
      "removed, use:\n",
      "\n",
      "import warnings\n",
      "warnings.filterwarnings('ignore', 'statsmodels.tsa.arima_model.ARMA',\n",
      "                        FutureWarning)\n",
      "warnings.filterwarnings('ignore', 'statsmodels.tsa.arima_model.ARIMA',\n",
      "                        FutureWarning)\n",
      "\n",
      "  warnings.warn(ARIMA_DEPRECATION_WARN, FutureWarning)\n",
      "C:\\Users\\rks91\\anaconda3\\lib\\site-packages\\statsmodels\\tsa\\base\\tsa_model.py:524: ValueWarning: No frequency information was provided, so inferred frequency MS will be used.\n",
      "  warnings.warn('No frequency information was'\n",
      "C:\\Users\\rks91\\anaconda3\\lib\\site-packages\\statsmodels\\tsa\\base\\tsa_model.py:524: ValueWarning: No frequency information was provided, so inferred frequency MS will be used.\n",
      "  warnings.warn('No frequency information was'\n",
      "C:\\Users\\rks91\\anaconda3\\lib\\site-packages\\statsmodels\\tsa\\arima_model.py:472: FutureWarning: \n",
      "statsmodels.tsa.arima_model.ARMA and statsmodels.tsa.arima_model.ARIMA have\n",
      "been deprecated in favor of statsmodels.tsa.arima.model.ARIMA (note the .\n",
      "between arima and model) and\n",
      "statsmodels.tsa.SARIMAX. These will be removed after the 0.12 release.\n",
      "\n",
      "statsmodels.tsa.arima.model.ARIMA makes use of the statespace framework and\n",
      "is both well tested and maintained.\n",
      "\n",
      "To silence this warning and continue using ARMA and ARIMA until they are\n",
      "removed, use:\n",
      "\n",
      "import warnings\n",
      "warnings.filterwarnings('ignore', 'statsmodels.tsa.arima_model.ARMA',\n",
      "                        FutureWarning)\n",
      "warnings.filterwarnings('ignore', 'statsmodels.tsa.arima_model.ARIMA',\n",
      "                        FutureWarning)\n",
      "\n",
      "  warnings.warn(ARIMA_DEPRECATION_WARN, FutureWarning)\n"
     ]
    }
   ],
   "source": [
    "model = ARIMA(  indairlog  ,  order = (2,1,1) )  #  order  ( p , d,q)\n",
    "result = model.fit()  "
   ]
  },
  {
   "cell_type": "code",
   "execution_count": 11,
   "metadata": {},
   "outputs": [
    {
     "data": {
      "text/plain": [
       "const                 0.010077\n",
       "ar.L1.D.Passengers    0.998224\n",
       "ar.L2.D.Passengers   -0.413410\n",
       "ma.L1.D.Passengers   -0.999980\n",
       "dtype: float64"
      ]
     },
     "execution_count": 11,
     "metadata": {},
     "output_type": "execute_result"
    }
   ],
   "source": [
    "result.params"
   ]
  },
  {
   "cell_type": "code",
   "execution_count": 12,
   "metadata": {},
   "outputs": [],
   "source": [
    "forecast_results  = result.forecast(steps= 12)\n",
    "\n",
    "## we want to do forecast for next 12 Time interval"
   ]
  },
  {
   "cell_type": "code",
   "execution_count": 13,
   "metadata": {},
   "outputs": [],
   "source": [
    "forecated_values = np.round(np.exp(forecast_results[0]  ))\n"
   ]
  },
  {
   "cell_type": "code",
   "execution_count": 14,
   "metadata": {},
   "outputs": [
    {
     "data": {
      "text/plain": [
       "[<matplotlib.lines.Line2D at 0x2298ebaa3d0>]"
      ]
     },
     "execution_count": 14,
     "metadata": {},
     "output_type": "execute_result"
    },
    {
     "data": {
      "image/png": "[encoded data removed]",
      "text/plain": [
       "<Figure size 432x288 with 1 Axes>"
      ]
     },
     "metadata": {
      "needs_background": "light"
     },
     "output_type": "display_data"
    }
   ],
   "source": [
    "plt.plot(forecated_values , \"*\")"
   ]
  },
  {
   "cell_type": "code",
   "execution_count": null,
   "metadata": {},
   "outputs": [],
   "source": []
  },
  {
   "cell_type": "code",
   "execution_count": null,
   "metadata": {},
   "outputs": [],
   "source": [
    "model = ARIMA(  indairlog  ,  order = (2,1,2) )  #  order  ( p , d,q)\n",
    "result = model.fit()  \n",
    "forecast_values = result.forecast(steps = 12)\n"
   ]
  },
  {
   "cell_type": "code",
   "execution_count": null,
   "metadata": {},
   "outputs": [],
   "source": []
  },
  {
   "cell_type": "code",
   "execution_count": 21,
   "metadata": {},
   "outputs": [],
   "source": [
    "from statsmodels.tsa.statespace.sarimax import SARIMAX\n",
    "#from statsmodels.tsa.seasonal import seasonal_decompose\n",
    "#import pmdarima\n",
    "from pmdarima import auto_arima"
   ]
  },
  {
   "cell_type": "code",
   "execution_count": 22,
   "metadata": {},
   "outputs": [
    {
     "ename": "ValueError",
     "evalue": "You must specify a period or x must be a pandas object with a DatetimeIndex with a freq not set to None",
     "output_type": "error",
     "traceback": [
      "\u001b[1;31m---------------------------------------------------------------------------\u001b[0m",
      "\u001b[1;31mValueError\u001b[0m                                Traceback (most recent call last)",
      "\u001b[1;32m<ipython-input-22-ec536e1a6d1a>\u001b[0m in \u001b[0;36m<module>\u001b[1;34m\u001b[0m\n\u001b[0;32m      1\u001b[0m \u001b[1;32mfrom\u001b[0m \u001b[0mstatsmodels\u001b[0m\u001b[1;33m.\u001b[0m\u001b[0mtsa\u001b[0m\u001b[1;33m.\u001b[0m\u001b[0mseasonal\u001b[0m \u001b[1;32mimport\u001b[0m \u001b[0mseasonal_decompose\u001b[0m\u001b[1;33m\u001b[0m\u001b[1;33m\u001b[0m\u001b[0m\n\u001b[1;32m----> 2\u001b[1;33m \u001b[0mdecompose_res\u001b[0m \u001b[1;33m=\u001b[0m \u001b[0mseasonal_decompose\u001b[0m\u001b[1;33m(\u001b[0m\u001b[0mind_airpas\u001b[0m\u001b[1;33m)\u001b[0m\u001b[1;33m\u001b[0m\u001b[1;33m\u001b[0m\u001b[0m\n\u001b[0m",
      "\u001b[1;32m~\\anaconda3\\lib\\site-packages\\pandas\\util\\_decorators.py\u001b[0m in \u001b[0;36mwrapper\u001b[1;34m(*args, **kwargs)\u001b[0m\n\u001b[0;32m    197\u001b[0m                 \u001b[1;32melse\u001b[0m\u001b[1;33m:\u001b[0m\u001b[1;33m\u001b[0m\u001b[1;33m\u001b[0m\u001b[0m\n\u001b[0;32m    198\u001b[0m                     \u001b[0mkwargs\u001b[0m\u001b[1;33m[\u001b[0m\u001b[0mnew_arg_name\u001b[0m\u001b[1;33m]\u001b[0m \u001b[1;33m=\u001b[0m \u001b[0mnew_arg_value\u001b[0m\u001b[1;33m\u001b[0m\u001b[1;33m\u001b[0m\u001b[0m\n\u001b[1;32m--> 199\u001b[1;33m             \u001b[1;32mreturn\u001b[0m \u001b[0mfunc\u001b[0m\u001b[1;33m(\u001b[0m\u001b[1;33m*\u001b[0m\u001b[0margs\u001b[0m\u001b[1;33m,\u001b[0m \u001b[1;33m**\u001b[0m\u001b[0mkwargs\u001b[0m\u001b[1;33m)\u001b[0m\u001b[1;33m\u001b[0m\u001b[1;33m\u001b[0m\u001b[0m\n\u001b[0m\u001b[0;32m    200\u001b[0m \u001b[1;33m\u001b[0m\u001b[0m\n\u001b[0;32m    201\u001b[0m         \u001b[1;32mreturn\u001b[0m \u001b[0mcast\u001b[0m\u001b[1;33m(\u001b[0m\u001b[0mF\u001b[0m\u001b[1;33m,\u001b[0m \u001b[0mwrapper\u001b[0m\u001b[1;33m)\u001b[0m\u001b[1;33m\u001b[0m\u001b[1;33m\u001b[0m\u001b[0m\n",
      "\u001b[1;32m~\\anaconda3\\lib\\site-packages\\statsmodels\\tsa\\seasonal.py\u001b[0m in \u001b[0;36mseasonal_decompose\u001b[1;34m(x, model, filt, period, two_sided, extrapolate_trend)\u001b[0m\n\u001b[0;32m    140\u001b[0m             \u001b[0mpfreq\u001b[0m \u001b[1;33m=\u001b[0m \u001b[0mfreq_to_period\u001b[0m\u001b[1;33m(\u001b[0m\u001b[0mpfreq\u001b[0m\u001b[1;33m)\u001b[0m\u001b[1;33m\u001b[0m\u001b[1;33m\u001b[0m\u001b[0m\n\u001b[0;32m    141\u001b[0m             \u001b[0mperiod\u001b[0m \u001b[1;33m=\u001b[0m \u001b[0mpfreq\u001b[0m\u001b[1;33m\u001b[0m\u001b[1;33m\u001b[0m\u001b[0m\n\u001b[1;32m--> 142\u001b[1;33m         \u001b[1;32melse\u001b[0m\u001b[1;33m:\u001b[0m\u001b[1;33m\u001b[0m\u001b[1;33m\u001b[0m\u001b[0m\n\u001b[0m\u001b[0;32m    143\u001b[0m             raise ValueError(\"You must specify a period or x must be a \"\n\u001b[0;32m    144\u001b[0m                              \u001b[1;34m\"pandas object with a DatetimeIndex with \"\u001b[0m\u001b[1;33m\u001b[0m\u001b[1;33m\u001b[0m\u001b[0m\n",
      "\u001b[1;31mValueError\u001b[0m: You must specify a period or x must be a pandas object with a DatetimeIndex with a freq not set to None"
     ]
    }
   ],
   "source": [
    "# from statsmodels.tsa.seasonal import seasonal_decompose\n",
    "# decompose_res = seasonal_decompose(ind_airpas)\n"
   ]
  },
  {
   "cell_type": "code",
   "execution_count": 19,
   "metadata": {},
   "outputs": [
    {
     "name": "stdout",
     "output_type": "stream",
     "text": [
      "Collecting pmdarima\n",
      "  Using cached pmdarima-1.8.2-cp38-cp38-win_amd64.whl (596 kB)\n",
      "Requirement already satisfied: scipy>=1.3.2 in c:\\users\\rks91\\anaconda3\\lib\\site-packages (from pmdarima) (1.5.2)\n",
      "Requirement already satisfied: setuptools!=50.0.0,>=38.6.0 in c:\\users\\rks91\\anaconda3\\lib\\site-packages (from pmdarima) (50.3.1.post20201107)\n",
      "Requirement already satisfied: joblib>=0.11 in c:\\users\\rks91\\anaconda3\\lib\\site-packages (from pmdarima) (0.17.0)\n",
      "Requirement already satisfied: pandas>=0.19 in c:\\users\\rks91\\anaconda3\\lib\\site-packages (from pmdarima) (1.1.3)\n",
      "Requirement already satisfied: urllib3 in c:\\users\\rks91\\anaconda3\\lib\\site-packages (from pmdarima) (1.25.11)\n",
      "Requirement already satisfied: Cython!=0.29.18,>=0.29 in c:\\users\\rks91\\anaconda3\\lib\\site-packages (from pmdarima) (0.29.21)\n",
      "Requirement already satisfied: statsmodels!=0.12.0,>=0.11 in c:\\users\\rks91\\anaconda3\\lib\\site-packages (from pmdarima) (0.12.2)\n",
      "Requirement already satisfied: scikit-learn>=0.22 in c:\\users\\rks91\\anaconda3\\lib\\site-packages (from pmdarima) (0.23.2)\n",
      "Requirement already satisfied: numpy~=1.19.0 in c:\\users\\rks91\\anaconda3\\lib\\site-packages (from pmdarima) (1.19.2)\n",
      "Requirement already satisfied: python-dateutil>=2.7.3 in c:\\users\\rks91\\anaconda3\\lib\\site-packages (from pandas>=0.19->pmdarima) (2.8.1)\n",
      "Requirement already satisfied: pytz>=2017.2 in c:\\users\\rks91\\anaconda3\\lib\\site-packages (from pandas>=0.19->pmdarima) (2020.1)\n",
      "Requirement already satisfied: patsy>=0.5 in c:\\users\\rks91\\anaconda3\\lib\\site-packages (from statsmodels!=0.12.0,>=0.11->pmdarima) (0.5.1)\n",
      "Requirement already satisfied: threadpoolctl>=2.0.0 in c:\\users\\rks91\\anaconda3\\lib\\site-packages (from scikit-learn>=0.22->pmdarima) (2.1.0)\n",
      "Requirement already satisfied: six>=1.5 in c:\\users\\rks91\\anaconda3\\lib\\site-packages (from python-dateutil>=2.7.3->pandas>=0.19->pmdarima) (1.15.0)\n",
      "Installing collected packages: pmdarima\n",
      "Successfully installed pmdarima-1.8.2\n"
     ]
    }
   ],
   "source": [
    "! pip install pmdarima"
   ]
  },
  {
   "cell_type": "code",
   "execution_count": 20,
   "metadata": {},
   "outputs": [],
   "source": [
    "import pmdarima\n"
   ]
  },
  {
   "cell_type": "code",
   "execution_count": 28,
   "metadata": {},
   "outputs": [],
   "source": [
    "airpas=pd.read_csv(r\"C:\\Users\\rks91\\Downloads\\New folder\\data sets\\dst\\AirPassengers.csv\")\n",
    "airpas.Month=pd.to_datetime(airpas.Month,infer_datetime_format=True)\n",
    "ind_airpas=airpas.set_index(['Month'])\n",
    "from datetime import datetime\n",
    "ind_airpas_log=np.log(ind_airpas)"
   ]
  },
  {
   "cell_type": "code",
   "execution_count": 29,
   "metadata": {},
   "outputs": [
    {
     "data": {
      "text/plain": [
       "ARIMA(order=(2, 0, 0), scoring_args={}, seasonal_order=(0, 1, 1, 12),\n",
       "      suppress_warnings=True)"
      ]
     },
     "execution_count": 29,
     "metadata": {},
     "output_type": "execute_result"
    }
   ],
   "source": [
    "auto_arima(ind_airpas_log,seasonal=True,m=12)"
   ]
  },
  {
   "cell_type": "code",
   "execution_count": 31,
   "metadata": {},
   "outputs": [
    {
     "name": "stderr",
     "output_type": "stream",
     "text": [
      "C:\\Users\\rks91\\anaconda3\\lib\\site-packages\\statsmodels\\tsa\\base\\tsa_model.py:524: ValueWarning: No frequency information was provided, so inferred frequency MS will be used.\n",
      "  warnings.warn('No frequency information was'\n",
      "C:\\Users\\rks91\\anaconda3\\lib\\site-packages\\statsmodels\\tsa\\base\\tsa_model.py:524: ValueWarning: No frequency information was provided, so inferred frequency MS will be used.\n",
      "  warnings.warn('No frequency information was'\n"
     ]
    }
   ],
   "source": [
    "model_sarima=SARIMAX(ind_airpas_log,order=(2,0,0),seasonal_order=(0,1,1,12))"
   ]
  },
  {
   "cell_type": "code",
   "execution_count": 32,
   "metadata": {},
   "outputs": [],
   "source": [
    "results=model_sarima.fit()#model has been created"
   ]
  },
  {
   "cell_type": "code",
   "execution_count": 33,
   "metadata": {},
   "outputs": [],
   "source": [
    "abc=results.predict()"
   ]
  },
  {
   "cell_type": "code",
   "execution_count": 34,
   "metadata": {},
   "outputs": [
    {
     "data": {
      "text/plain": [
       "1949-01-01    0.000000e+00\n",
       "1949-02-01    7.827404e-08\n",
       "1949-03-01    1.558776e-07\n",
       "1949-04-01    2.326923e-07\n",
       "1949-05-01    3.068032e-07\n",
       "                  ...     \n",
       "1960-08-01    6.436396e+00\n",
       "1960-09-01    6.238490e+00\n",
       "1960-10-01    6.097068e+00\n",
       "1960-11-01    5.991846e+00\n",
       "1960-12-01    6.083846e+00\n",
       "Freq: MS, Name: predicted_mean, Length: 144, dtype: float64"
      ]
     },
     "execution_count": 34,
     "metadata": {},
     "output_type": "execute_result"
    }
   ],
   "source": [
    "abc"
   ]
  },
  {
   "cell_type": "code",
   "execution_count": 35,
   "metadata": {},
   "outputs": [
    {
     "data": {
      "text/plain": [
       "144"
      ]
     },
     "execution_count": 35,
     "metadata": {},
     "output_type": "execute_result"
    }
   ],
   "source": [
    "len(abc)"
   ]
  },
  {
   "cell_type": "code",
   "execution_count": 36,
   "metadata": {},
   "outputs": [
    {
     "data": {
      "text/plain": [
       "1960-01-01    6.039124\n",
       "1960-02-01    5.984889\n",
       "1960-03-01    6.128331\n",
       "1960-04-01    6.039683\n",
       "1960-05-01    6.131095\n",
       "1960-06-01    6.305672\n",
       "1960-07-01    6.415842\n",
       "1960-08-01    6.436396\n",
       "1960-09-01    6.238490\n",
       "1960-10-01    6.097068\n",
       "1960-11-01    5.991846\n",
       "1960-12-01    6.083846\n",
       "Freq: MS, Name: predicted_mean, dtype: float64"
      ]
     },
     "execution_count": 36,
     "metadata": {},
     "output_type": "execute_result"
    }
   ],
   "source": [
    "results.predict(start=132,end=143)"
   ]
  },
  {
   "cell_type": "code",
   "execution_count": 37,
   "metadata": {},
   "outputs": [
    {
     "data": {
      "text/plain": [
       "1961-01-01    6.103809\n",
       "1961-02-01    6.045763\n",
       "1961-03-01    6.162444\n",
       "1961-04-01    6.188855\n",
       "1961-05-01    6.220875\n",
       "1961-06-01    6.355807\n",
       "1961-07-01    6.493127\n",
       "1961-08-01    6.487478\n",
       "1961-09-01    6.307996\n",
       "1961-10-01    6.191123\n",
       "1961-11-01    6.044350\n",
       "1961-12-01    6.147663\n",
       "Freq: MS, Name: predicted_mean, dtype: float64"
      ]
     },
     "execution_count": 37,
     "metadata": {},
     "output_type": "execute_result"
    }
   ],
   "source": [
    "results.predict(start=144,end=155)"
   ]
  },
  {
   "cell_type": "code",
   "execution_count": 38,
   "metadata": {},
   "outputs": [
    {
     "data": {
      "text/plain": [
       "1960-01-01    419.525299\n",
       "1960-02-01    397.378376\n",
       "1960-03-01    458.669825\n",
       "1960-04-01    419.759878\n",
       "1960-05-01    459.939345\n",
       "1960-06-01    547.669481\n",
       "1960-07-01    611.455657\n",
       "1960-08-01    624.153123\n",
       "1960-09-01    512.084584\n",
       "1960-10-01    444.552248\n",
       "1960-11-01    400.152669\n",
       "1960-12-01    438.713404\n",
       "Freq: MS, Name: predicted_mean, dtype: float64"
      ]
     },
     "execution_count": 38,
     "metadata": {},
     "output_type": "execute_result"
    }
   ],
   "source": [
    "pred = results.predict(start=132 , end = 143 )\n",
    "actual_pred = np.exp(pred)\n",
    "actual_pred\n",
    "\n"
   ]
  },
  {
   "cell_type": "code",
   "execution_count": 39,
   "metadata": {},
   "outputs": [
    {
     "data": {
      "image/png": "[encoded data removed]",
      "text/plain": [
       "<Figure size 576x576 with 1 Axes>"
      ]
     },
     "metadata": {
      "needs_background": "light"
     },
     "output_type": "display_data"
    }
   ],
   "source": [
    "plt.figure(figsize= (8 , 8))\n",
    "plt.plot(ind_airpas[132:144] , marker =\"*\" , color =\"r\" , label = \"actual\")\n",
    "plt.plot(actual_pred, color =\"b\" , label =\"Forecasted\" , marker =\"*\")\n",
    "plt.legend() # we can see that our model is doing actually very good prediction\n",
    "plt.grid()"
   ]
  },
  {
   "cell_type": "code",
   "execution_count": 40,
   "metadata": {},
   "outputs": [
    {
     "data": {
      "text/plain": [
       "375.2963796859974"
      ]
     },
     "execution_count": 40,
     "metadata": {},
     "output_type": "execute_result"
    }
   ],
   "source": [
    "from sklearn.metrics import mean_squared_error\n",
    "mean_squared_error(ind_airpas[132:144] , actual_pred)"
   ]
  },
  {
   "cell_type": "code",
   "execution_count": null,
   "metadata": {},
   "outputs": [],
   "source": [
    "# pred = results.predict(start=132 , end = 143 )\n",
    "# actual_pred = np.exp(pred)\n",
    "# actual_pred"
   ]
  },
  {
   "cell_type": "code",
   "execution_count": null,
   "metadata": {},
   "outputs": [],
   "source": [
    "# plt.figure(figsize= (8 , 8))\n",
    "# plt.plot(ind_airpas[132:144] , marker =\"*\" , color =\"r\" , label = \"actual\")\n",
    "# plt.plot(actual_pred, color =\"b\" , label =\"Forecasted\" , marker =\"*\")\n",
    "# plt.legend() # we can see that our model is doing actually very good prediction\n",
    "# plt.grid()"
   ]
  },
  {
   "cell_type": "code",
   "execution_count": null,
   "metadata": {},
   "outputs": [],
   "source": [
    "#but this time people have to divide data in train and test\n",
    "\n",
    "#take 150 in train and lat 19 in test\n",
    "\n",
    "#and find the MSE\n",
    "#======================\n",
    "#15 mins ka break and 15 mins for coding\n",
    "\n",
    "#by 7:15 people should have created the model\n"
   ]
  },
  {
   "cell_type": "code",
   "execution_count": null,
   "metadata": {},
   "outputs": [],
   "source": [
    "#lets automate the process of ARIMA"
   ]
  },
  {
   "cell_type": "code",
   "execution_count": null,
   "metadata": {},
   "outputs": [],
   "source": [
    "airpas=pd.read_csv(r\"C:\\Users\\rks91\\Downloads\\New folder\\data sets\\dst\\AirPassengers.csv\")\n",
    "airpas.Month=pd.to_datetime(airpas.Month,infer_datetime_format=True)\n",
    "ind_airpas=airpas.set_index(['Month'])\n",
    "from datetime import datetime\n",
    "ind_airpas_log=np.log(ind_airpas)"
   ]
  },
  {
   "cell_type": "code",
   "execution_count": 17,
   "metadata": {},
   "outputs": [
    {
     "name": "stdout",
     "output_type": "stream",
     "text": [
      "showing info https://raw.githubusercontent.com/nltk/nltk_data/gh-pages/index.xml\n"
     ]
    },
    {
     "data": {
      "text/plain": [
       "True"
      ]
     },
     "execution_count": 17,
     "metadata": {},
     "output_type": "execute_result"
    }
   ],
   "source": [
    "nltk.download()"
   ]
  },
  {
   "cell_type": "code",
   "execution_count": 16,
   "metadata": {},
   "outputs": [],
   "source": [
    "import nltk"
   ]
  },
  {
   "cell_type": "code",
   "execution_count": null,
   "metadata": {},
   "outputs": [],
   "source": []
  }
 ],
 "metadata": {
  "kernelspec": {
   "display_name": "Python 3",
   "language": "python",
   "name": "python3"
  },
  "language_info": {
   "codemirror_mode": {
    "name": "ipython",
    "version": 3
   },
   "file_extension": ".py",
   "mimetype": "text/x-python",
   "name": "python",
   "nbconvert_exporter": "python",
   "pygments_lexer": "ipython3",
   "version": "3.8.5"
  }
 },
 "nbformat": 4,
 "nbformat_minor": 4
}
